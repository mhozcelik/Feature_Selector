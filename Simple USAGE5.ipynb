{
 "cells": [
  {
   "cell_type": "code",
   "execution_count": 1,
   "id": "a5032cb3-5ffe-4b18-9c11-645808b27ee3",
   "metadata": {},
   "outputs": [],
   "source": [
    "import os\n",
    "import sys\n",
    "import time\n",
    "import math\n",
    "import warnings\n",
    "import multiprocessing\n",
    "import numpy as np\n",
    "import pandas as pd\n",
    "from sklearn.model_selection import train_test_split\n",
    "from sklearn.metrics import confusion_matrix, roc_curve, auc\n",
    "from sklearn.preprocessing import MinMaxScaler\n",
    "from sklearn.feature_selection import GenericUnivariateSelect, chi2, f_classif, mutual_info_classif, SelectFromModel, SequentialFeatureSelector, RFE, RFECV\n",
    "from sklearn.feature_selection import SelectKBest, SelectFpr, SelectFdr, SelectFwe\n",
    "from sklearn.linear_model import LogisticRegression\n",
    "from sklearn.tree import DecisionTreeClassifier\n",
    "from sklearn.ensemble import RandomForestClassifier\n",
    "from lightgbm import LGBMClassifier\n",
    "from xgboost import XGBClassifier\n",
    "from Feature_Selector5 import Feature_Statistics, Feature_Selector, Feature_SelectorX"
   ]
  },
  {
   "cell_type": "code",
   "execution_count": 2,
   "id": "f65c1335-8b4c-4d67-ac80-8933ec431c1e",
   "metadata": {},
   "outputs": [],
   "source": [
    "def MP(Model, X, y):\n",
    "    My_scores = Model.predict_proba(X)\n",
    "    My_predictions = Model.predict(X)\n",
    "    TN, FP, FN, TP = confusion_matrix(y, My_predictions, labels=[0, 1]).ravel()\n",
    "    accuracy    = (TP+TN)/(TP+TN+FP+FN)\n",
    "    sensitivity = TP / (TP+FN)\n",
    "    specifity   = TN / (TN+FP)\n",
    "    if My_scores.shape[1]==2:\n",
    "        fpr, tpr, thresholds = roc_curve(y, My_scores[:,1])\n",
    "    else:\n",
    "        fpr, tpr, thresholds = roc_curve(y, My_scores)\n",
    "    AUC = auc(fpr, tpr)\n",
    "    GINI = 2 * AUC - 1\n",
    "    return AUC, GINI, accuracy, sensitivity, specifity"
   ]
  },
  {
   "cell_type": "code",
   "execution_count": 3,
   "id": "caefbfb5-1e77-41bb-ad63-0843c00bb95d",
   "metadata": {},
   "outputs": [
    {
     "data": {
      "text/plain": [
       "(2407, 300)"
      ]
     },
     "execution_count": 3,
     "metadata": {},
     "output_type": "execute_result"
    }
   ],
   "source": [
    "df = pd.read_csv('csv\\\\scene.csv')\n",
    "df.shape"
   ]
  },
  {
   "cell_type": "code",
   "execution_count": 4,
   "id": "dfcf7312-1430-4037-95b2-b80c4048da72",
   "metadata": {},
   "outputs": [
    {
     "data": {
      "text/html": [
       "<div>\n",
       "<style scoped>\n",
       "    .dataframe tbody tr th:only-of-type {\n",
       "        vertical-align: middle;\n",
       "    }\n",
       "\n",
       "    .dataframe tbody tr th {\n",
       "        vertical-align: top;\n",
       "    }\n",
       "\n",
       "    .dataframe thead th {\n",
       "        text-align: right;\n",
       "    }\n",
       "</style>\n",
       "<table border=\"1\" class=\"dataframe\">\n",
       "  <thead>\n",
       "    <tr style=\"text-align: right;\">\n",
       "      <th></th>\n",
       "      <th>attr1</th>\n",
       "      <th>attr2</th>\n",
       "      <th>attr3</th>\n",
       "      <th>attr4</th>\n",
       "      <th>attr5</th>\n",
       "      <th>attr6</th>\n",
       "      <th>attr7</th>\n",
       "      <th>attr8</th>\n",
       "      <th>attr9</th>\n",
       "      <th>attr10</th>\n",
       "      <th>...</th>\n",
       "      <th>attr291</th>\n",
       "      <th>attr292</th>\n",
       "      <th>attr293</th>\n",
       "      <th>attr294</th>\n",
       "      <th>Beach</th>\n",
       "      <th>Sunset</th>\n",
       "      <th>FallFoliage</th>\n",
       "      <th>Field</th>\n",
       "      <th>Mountain</th>\n",
       "      <th>y</th>\n",
       "    </tr>\n",
       "  </thead>\n",
       "  <tbody>\n",
       "    <tr>\n",
       "      <th>0</th>\n",
       "      <td>0.646467</td>\n",
       "      <td>0.666435</td>\n",
       "      <td>0.685047</td>\n",
       "      <td>0.699053</td>\n",
       "      <td>0.652746</td>\n",
       "      <td>0.407864</td>\n",
       "      <td>0.150309</td>\n",
       "      <td>0.535193</td>\n",
       "      <td>0.555689</td>\n",
       "      <td>0.580782</td>\n",
       "      <td>...</td>\n",
       "      <td>0.157332</td>\n",
       "      <td>0.247298</td>\n",
       "      <td>0.014025</td>\n",
       "      <td>0.029709</td>\n",
       "      <td>1</td>\n",
       "      <td>0</td>\n",
       "      <td>0</td>\n",
       "      <td>0</td>\n",
       "      <td>1</td>\n",
       "      <td>0</td>\n",
       "    </tr>\n",
       "    <tr>\n",
       "      <th>1</th>\n",
       "      <td>0.770156</td>\n",
       "      <td>0.767255</td>\n",
       "      <td>0.761053</td>\n",
       "      <td>0.745630</td>\n",
       "      <td>0.742231</td>\n",
       "      <td>0.688086</td>\n",
       "      <td>0.708416</td>\n",
       "      <td>0.757351</td>\n",
       "      <td>0.760633</td>\n",
       "      <td>0.740314</td>\n",
       "      <td>...</td>\n",
       "      <td>0.251454</td>\n",
       "      <td>0.137833</td>\n",
       "      <td>0.082672</td>\n",
       "      <td>0.036320</td>\n",
       "      <td>1</td>\n",
       "      <td>0</td>\n",
       "      <td>0</td>\n",
       "      <td>0</td>\n",
       "      <td>0</td>\n",
       "      <td>1</td>\n",
       "    </tr>\n",
       "    <tr>\n",
       "      <th>2</th>\n",
       "      <td>0.793984</td>\n",
       "      <td>0.772096</td>\n",
       "      <td>0.761820</td>\n",
       "      <td>0.762213</td>\n",
       "      <td>0.740569</td>\n",
       "      <td>0.734361</td>\n",
       "      <td>0.722677</td>\n",
       "      <td>0.849128</td>\n",
       "      <td>0.839607</td>\n",
       "      <td>0.812746</td>\n",
       "      <td>...</td>\n",
       "      <td>0.017166</td>\n",
       "      <td>0.051125</td>\n",
       "      <td>0.112506</td>\n",
       "      <td>0.083924</td>\n",
       "      <td>1</td>\n",
       "      <td>0</td>\n",
       "      <td>0</td>\n",
       "      <td>0</td>\n",
       "      <td>0</td>\n",
       "      <td>0</td>\n",
       "    </tr>\n",
       "    <tr>\n",
       "      <th>3</th>\n",
       "      <td>0.938563</td>\n",
       "      <td>0.949260</td>\n",
       "      <td>0.955621</td>\n",
       "      <td>0.966743</td>\n",
       "      <td>0.968649</td>\n",
       "      <td>0.869619</td>\n",
       "      <td>0.696925</td>\n",
       "      <td>0.953460</td>\n",
       "      <td>0.959631</td>\n",
       "      <td>0.966320</td>\n",
       "      <td>...</td>\n",
       "      <td>0.019267</td>\n",
       "      <td>0.031290</td>\n",
       "      <td>0.049780</td>\n",
       "      <td>0.090959</td>\n",
       "      <td>1</td>\n",
       "      <td>0</td>\n",
       "      <td>0</td>\n",
       "      <td>0</td>\n",
       "      <td>0</td>\n",
       "      <td>0</td>\n",
       "    </tr>\n",
       "    <tr>\n",
       "      <th>4</th>\n",
       "      <td>0.512130</td>\n",
       "      <td>0.524684</td>\n",
       "      <td>0.520020</td>\n",
       "      <td>0.504467</td>\n",
       "      <td>0.471209</td>\n",
       "      <td>0.417654</td>\n",
       "      <td>0.364292</td>\n",
       "      <td>0.562266</td>\n",
       "      <td>0.588592</td>\n",
       "      <td>0.584449</td>\n",
       "      <td>...</td>\n",
       "      <td>0.198151</td>\n",
       "      <td>0.238796</td>\n",
       "      <td>0.164270</td>\n",
       "      <td>0.184290</td>\n",
       "      <td>1</td>\n",
       "      <td>0</td>\n",
       "      <td>0</td>\n",
       "      <td>0</td>\n",
       "      <td>0</td>\n",
       "      <td>0</td>\n",
       "    </tr>\n",
       "  </tbody>\n",
       "</table>\n",
       "<p>5 rows × 300 columns</p>\n",
       "</div>"
      ],
      "text/plain": [
       "      attr1     attr2     attr3     attr4     attr5     attr6     attr7  \\\n",
       "0  0.646467  0.666435  0.685047  0.699053  0.652746  0.407864  0.150309   \n",
       "1  0.770156  0.767255  0.761053  0.745630  0.742231  0.688086  0.708416   \n",
       "2  0.793984  0.772096  0.761820  0.762213  0.740569  0.734361  0.722677   \n",
       "3  0.938563  0.949260  0.955621  0.966743  0.968649  0.869619  0.696925   \n",
       "4  0.512130  0.524684  0.520020  0.504467  0.471209  0.417654  0.364292   \n",
       "\n",
       "      attr8     attr9    attr10  ...   attr291   attr292   attr293   attr294  \\\n",
       "0  0.535193  0.555689  0.580782  ...  0.157332  0.247298  0.014025  0.029709   \n",
       "1  0.757351  0.760633  0.740314  ...  0.251454  0.137833  0.082672  0.036320   \n",
       "2  0.849128  0.839607  0.812746  ...  0.017166  0.051125  0.112506  0.083924   \n",
       "3  0.953460  0.959631  0.966320  ...  0.019267  0.031290  0.049780  0.090959   \n",
       "4  0.562266  0.588592  0.584449  ...  0.198151  0.238796  0.164270  0.184290   \n",
       "\n",
       "   Beach  Sunset  FallFoliage  Field  Mountain  y  \n",
       "0      1       0            0      0         1  0  \n",
       "1      1       0            0      0         0  1  \n",
       "2      1       0            0      0         0  0  \n",
       "3      1       0            0      0         0  0  \n",
       "4      1       0            0      0         0  0  \n",
       "\n",
       "[5 rows x 300 columns]"
      ]
     },
     "execution_count": 4,
     "metadata": {},
     "output_type": "execute_result"
    }
   ],
   "source": [
    "df.head()"
   ]
  },
  {
   "cell_type": "code",
   "execution_count": 5,
   "id": "b3e527f3-c30e-4508-9d09-21b71765dc4d",
   "metadata": {},
   "outputs": [
    {
     "name": "stdout",
     "output_type": "stream",
     "text": [
      "bad columns= []\n"
     ]
    }
   ],
   "source": [
    "X = df.drop('y',axis=1)\n",
    "y = df['y']\n",
    "X = pd.get_dummies(X)\n",
    "X = X.fillna(0)\n",
    "tmp = pd.DataFrame(pd.Series(X.columns).value_counts())\n",
    "tmp.columns = ['count']\n",
    "bad_columns = list(tmp.loc[tmp['count']>1].index)\n",
    "print('bad columns=',bad_columns)\n",
    "X = X.drop(bad_columns,axis=1)"
   ]
  },
  {
   "cell_type": "code",
   "execution_count": 6,
   "id": "35db4b2b-4bd0-4cb6-9136-2559a26cb177",
   "metadata": {},
   "outputs": [
    {
     "name": "stdout",
     "output_type": "stream",
     "text": [
      "(2407, 299) (1203, 299)\n"
     ]
    }
   ],
   "source": [
    "X_train, X_val, y_train, y_val = train_test_split(X,y,test_size=0.50,random_state=42,stratify=y)\n",
    "print(X.shape,X_train.shape)"
   ]
  },
  {
   "cell_type": "code",
   "execution_count": 7,
   "id": "857e6f0a-41bf-4e95-b0e2-2f85a98ccf19",
   "metadata": {},
   "outputs": [
    {
     "name": "stdout",
     "output_type": "stream",
     "text": [
      "CPU times: total: 15 s\n",
      "Wall time: 6.56 s\n"
     ]
    }
   ],
   "source": [
    "%%time\n",
    "my_feat_stat_n = Feature_Statistics(X_train,y_train)"
   ]
  },
  {
   "cell_type": "code",
   "execution_count": null,
   "id": "3d731608-43d8-477a-8b41-a288fe9bf071",
   "metadata": {},
   "outputs": [],
   "source": [
    "%%time\n",
    "selected10 = Feature_SelectorX(X_train,y_train,10,my_feat_stat_n,rm_mult_thrs=0.8,p12=1)\n",
    "selected10"
   ]
  },
  {
   "cell_type": "code",
   "execution_count": null,
   "id": "ddec05c0-695d-4906-a809-742b1889f566",
   "metadata": {},
   "outputs": [],
   "source": [
    "%%time\n",
    "selected10 = Feature_Selector(X_train,y_train,10)\n",
    "selected10"
   ]
  },
  {
   "cell_type": "code",
   "execution_count": null,
   "id": "28f61a01-798b-481a-a731-daad605b13e0",
   "metadata": {},
   "outputs": [],
   "source": [
    "%%time\n",
    "selected10 = Feature_Selector(X_train,y_train,10,my_feat_stat_n)\n",
    "selected10"
   ]
  },
  {
   "cell_type": "code",
   "execution_count": null,
   "id": "edcb67b3-662f-40e0-aa62-3e309f113ce0",
   "metadata": {},
   "outputs": [],
   "source": [
    "%%time\n",
    "selected10 = Feature_Selector(X_train,y_train,10,my_feat_stat_n,'Best_Any_Inv')\n",
    "selected10"
   ]
  },
  {
   "cell_type": "markdown",
   "id": "0871d396-083f-4b9d-8588-e5f9137949a5",
   "metadata": {},
   "source": [
    "# LIGHT GBM CLASSIFIER"
   ]
  },
  {
   "cell_type": "code",
   "execution_count": null,
   "id": "91431170-7506-4f7c-ac01-7ce9569883a2",
   "metadata": {},
   "outputs": [],
   "source": [
    "%%time\n",
    "My_model = LGBMClassifier(random_state=42,max_leaf_nodes=200,min_samples_leaf=50,verbosity=-1)\n",
    "My_model.fit(X_train,y_train)\n",
    "print('TRA:',MP(My_model,X_train,y_train))\n",
    "print('VAL:',MP(My_model,X_val,y_val))"
   ]
  },
  {
   "cell_type": "code",
   "execution_count": null,
   "id": "ddaa2b89-0ec8-403d-8237-4321fc939d90",
   "metadata": {},
   "outputs": [],
   "source": [
    "%%time\n",
    "My_model = LGBMClassifier(random_state=42,max_leaf_nodes=200,min_samples_leaf=50,verbosity=-1)\n",
    "My_model.fit(X_train[selected10],y_train)\n",
    "print('TRA:',MP(My_model,X_train[selected10],y_train))\n",
    "print('VAL:',MP(My_model,X_val[selected10],y_val))"
   ]
  },
  {
   "cell_type": "code",
   "execution_count": null,
   "id": "9e947aab-0666-418f-ab90-483016a98997",
   "metadata": {},
   "outputs": [],
   "source": [
    "%%time\n",
    "selected10_FI_LGBM = Feature_Selector(X_train,y_train,10,my_feat_stat_n,'FI_LGBM')"
   ]
  },
  {
   "cell_type": "code",
   "execution_count": null,
   "id": "43b8c64f-a402-46f7-936d-5701d9da59a8",
   "metadata": {},
   "outputs": [],
   "source": [
    "%%time\n",
    "My_model = LGBMClassifier(random_state=42,max_leaf_nodes=200,min_samples_leaf=50,verbosity=-1)\n",
    "My_model.fit(X_train[selected10_FI_LGBM],y_train)\n",
    "print('TRA:',MP(My_model,X_train[selected10_FI_LGBM],y_train))\n",
    "print('VAL:',MP(My_model,X_val[selected10_FI_LGBM],y_val))"
   ]
  },
  {
   "cell_type": "code",
   "execution_count": null,
   "id": "16d96f44-7612-4010-955a-1faf2b06b575",
   "metadata": {},
   "outputs": [],
   "source": []
  }
 ],
 "metadata": {
  "kernelspec": {
   "display_name": "Python 3 (ipykernel)",
   "language": "python",
   "name": "python3"
  },
  "language_info": {
   "codemirror_mode": {
    "name": "ipython",
    "version": 3
   },
   "file_extension": ".py",
   "mimetype": "text/x-python",
   "name": "python",
   "nbconvert_exporter": "python",
   "pygments_lexer": "ipython3",
   "version": "3.12.7"
  }
 },
 "nbformat": 4,
 "nbformat_minor": 5
}
